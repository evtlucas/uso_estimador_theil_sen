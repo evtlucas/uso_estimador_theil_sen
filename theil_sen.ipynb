{
 "cells": [
  {
   "cell_type": "markdown",
   "metadata": {},
   "source": [
    "# A linha de tendência é aplicável ao meu caso?"
   ]
  },
  {
   "cell_type": "markdown",
   "metadata": {},
   "source": [
    "A linha de tendência é vista como um meio de entendimento acerca do comportamento de um conjunto de dados. Esse conjunto de dados pode ser as vendas diárias de um estabelecimento comercial, número de chamados atendidos por uma equipe de suporte, entre outros. Com essa visão, o gestor busca entender qual a tendência futura e tomar as ações necessárias para eventuais correções de rumos. A questão que envolve esse tema está centrada no seguinte aspecto: seria a linha de tendência adequada para essa análise? Para responder essa pergunta, será utilizado um conjunto de dados fictício que representa a quantidade de funcionalidades semanais entregues por uma equipe de software. Para aqueles que entendem do tema, esse indicador é chamado de **throughput**."
   ]
  },
  {
   "cell_type": "code",
   "execution_count": 23,
   "metadata": {},
   "outputs": [],
   "source": [
    "import datetime\n",
    "import math\n",
    "import pandas as pd\n",
    "import numpy as np\n",
    "import matplotlib\n",
    "import matplotlib.pyplot as plt\n",
    "from sklearn.linear_model import TheilSenRegressor\n",
    "from sklearn.linear_model import LinearRegression\n",
    "from scipy import stats\n",
    "\n",
    "matplotlib.rcParams['figure.figsize'] = [12.0, 8.0]"
   ]
  },
  {
   "cell_type": "code",
   "execution_count": 10,
   "metadata": {},
   "outputs": [
    {
     "data": {
      "text/html": [
       "<div>\n",
       "<style scoped>\n",
       "    .dataframe tbody tr th:only-of-type {\n",
       "        vertical-align: middle;\n",
       "    }\n",
       "\n",
       "    .dataframe tbody tr th {\n",
       "        vertical-align: top;\n",
       "    }\n",
       "\n",
       "    .dataframe thead th {\n",
       "        text-align: right;\n",
       "    }\n",
       "</style>\n",
       "<table border=\"1\" class=\"dataframe\">\n",
       "  <thead>\n",
       "    <tr style=\"text-align: right;\">\n",
       "      <th></th>\n",
       "      <th>Dia</th>\n",
       "      <th>Entregas</th>\n",
       "    </tr>\n",
       "  </thead>\n",
       "  <tbody>\n",
       "    <tr>\n",
       "      <th>0</th>\n",
       "      <td>01/07/16</td>\n",
       "      <td>2</td>\n",
       "    </tr>\n",
       "    <tr>\n",
       "      <th>1</th>\n",
       "      <td>08/07/16</td>\n",
       "      <td>5</td>\n",
       "    </tr>\n",
       "    <tr>\n",
       "      <th>2</th>\n",
       "      <td>15/07/16</td>\n",
       "      <td>0</td>\n",
       "    </tr>\n",
       "    <tr>\n",
       "      <th>3</th>\n",
       "      <td>22/07/16</td>\n",
       "      <td>14</td>\n",
       "    </tr>\n",
       "    <tr>\n",
       "      <th>4</th>\n",
       "      <td>29/07/16</td>\n",
       "      <td>5</td>\n",
       "    </tr>\n",
       "  </tbody>\n",
       "</table>\n",
       "</div>"
      ],
      "text/plain": [
       "        Dia  Entregas\n",
       "0  01/07/16         2\n",
       "1  08/07/16         5\n",
       "2  15/07/16         0\n",
       "3  22/07/16        14\n",
       "4  29/07/16         5"
      ]
     },
     "execution_count": 10,
     "metadata": {},
     "output_type": "execute_result"
    }
   ],
   "source": [
    "entregas = pd.read_csv('entregas.csv')\n",
    "entregas.head()"
   ]
  },
  {
   "cell_type": "markdown",
   "metadata": {},
   "source": [
    "A tabela acima é um pequeno extrato dos dados sob análise. Para melhor compreensão, será considerado o número da semana. Para os dados acima, será gerado um gráfico que conterá uma linha de tendência."
   ]
  },
  {
   "cell_type": "code",
   "execution_count": 12,
   "metadata": {},
   "outputs": [],
   "source": [
    "semanas = [i for i in range(1, entregas.shape[0] + 1)]\n",
    "entregas['Dia'] = pd.to_datetime(entregas['Dia'])\n",
    "x = np.array(semanas)\n",
    "y = entregas['Entregas']\n",
    "X = x.reshape(-1, 1)"
   ]
  },
  {
   "cell_type": "code",
   "execution_count": 6,
   "metadata": {},
   "outputs": [],
   "source": [
    "lr = LinearRegression()\n",
    "lr.fit(X, y)\n",
    "y_lr_pred = lr.predict(X)"
   ]
  },
  {
   "cell_type": "code",
   "execution_count": 14,
   "metadata": {},
   "outputs": [
    {
     "data": {
      "text/plain": [
       "<matplotlib.legend.Legend at 0x7f5d8b420b70>"
      ]
     },
     "execution_count": 14,
     "metadata": {},
     "output_type": "execute_result"
    },
    {
     "data": {
      "image/png": "[encoded data removed]",
      "text/plain": [
       "<Figure size 864x576 with 1 Axes>"
      ]
     },
     "metadata": {
      "needs_background": "light"
     },
     "output_type": "display_data"
    }
   ],
   "source": [
    "fig, ax = plt.subplots()\n",
    "ax.grid(True)\n",
    "\n",
    "plt.scatter(x, y, c='black')\n",
    "plt.plot(semanas, y_lr_pred, c='red', label='Regressão Linear')\n",
    "ax.legend()"
   ]
  },
  {
   "cell_type": "markdown",
   "metadata": {},
   "source": [
    "A linha de tendência do gráfico acima demonstra que esse time, apesar da variabilidade das suas entregas, aparenta aumentar suas entregas ao longo do tempo. Entretanto, é preciso atentar para os fundamentos dessa ferramenta. A linha de tendência, como normalmente é conhecida, é uma reta de regressão linear.\n",
    "\n",
    "A regressão linear, para que seja válida, possui alguns pressupostos. São eles:\n",
    "* Independência dos dados\n",
    "* Normalidade dos resíduos\n",
    "* Homogeneidade da variância dos resíduos\n",
    "* Aditividade dos efeitos do modelo\n",
    "\n",
    "Vamos avaliar o pressuposto da normalidade dos resíduos para verificar a viabilidade do uso da regressão linear nesse caso."
   ]
  },
  {
   "cell_type": "code",
   "execution_count": 16,
   "metadata": {},
   "outputs": [
    {
     "data": {
      "text/plain": [
       "(0.6509690284729004, 1.6672602853873286e-08)"
      ]
     },
     "execution_count": 16,
     "metadata": {},
     "output_type": "execute_result"
    }
   ],
   "source": [
    "residuals = y - y_lr_pred\n",
    "stats.shapiro(residuals)"
   ]
  },
  {
   "cell_type": "markdown",
   "metadata": {},
   "source": [
    "O resultado que interessa é o segundo resultado apresentado ($ 1.67 * 10^{-8} $), chamado de p-valor. Ele é o valor que avalia se um determinado conjunto de dados segue ou não a distribuição normal. O valor considerado nessa avaliação é geralmente 5%, ou 0,05. Como esse valor foi menor (1.6672602853873286e-08), então esse conjunto não é normal (na linguagem estatística diz-se que a hipótese foi rejeitada). Conclue-se, dessa forma, que o modelo não é adequado para a aplicação de regressão linear. E qual a solução?\n",
    "\n",
    "Pode-se usar o estimador de Theil-Sen. Ele é um estimador livre de distribuições e pode informar a resposta necessária. Será efetuado o cálculo usando esse estimador para demonstrar a diferença."
   ]
  },
  {
   "cell_type": "code",
   "execution_count": 20,
   "metadata": {},
   "outputs": [
    {
     "data": {
      "text/plain": [
       "TheilSenRegressor(copy_X=True, fit_intercept=True, max_iter=300,\n",
       "                  max_subpopulation=10000, n_jobs=None, n_subsamples=None,\n",
       "                  random_state=42, tol=0.001, verbose=False)"
      ]
     },
     "execution_count": 20,
     "metadata": {},
     "output_type": "execute_result"
    }
   ],
   "source": [
    "ts = TheilSenRegressor(random_state=42)\n",
    "ts.fit(X, y)"
   ]
  },
  {
   "cell_type": "code",
   "execution_count": 21,
   "metadata": {},
   "outputs": [],
   "source": [
    "y_ts_pred = ts.predict(X)"
   ]
  },
  {
   "cell_type": "code",
   "execution_count": 22,
   "metadata": {},
   "outputs": [
    {
     "data": {
      "text/plain": [
       "<matplotlib.legend.Legend at 0x7f5d8b2adeb8>"
      ]
     },
     "execution_count": 22,
     "metadata": {},
     "output_type": "execute_result"
    },
    {
     "data": {
      "image/png": "[encoded data removed]",
      "text/plain": [
       "<Figure size 864x576 with 1 Axes>"
      ]
     },
     "metadata": {
      "needs_background": "light"
     },
     "output_type": "display_data"
    }
   ],
   "source": [
    "fig, ax = plt.subplots()\n",
    "ax.grid(True)\n",
    "\n",
    "plt.scatter(x, y, c='black')\n",
    "plt.plot(semanas, y_ts_pred, c='blue', label='Theil-Sen')\n",
    "plt.plot(semanas, y_lr_pred, c='red', label='Regressão Linear')\n",
    "ax.legend()"
   ]
  },
  {
   "cell_type": "markdown",
   "metadata": {},
   "source": [
    "A linha baseada no estimador de Theil-Sen mostra que as entregas possuem uma tendência de constância, ao contrário da linha de regressão linear. Além da não-aplicabilidade da regressão linear nesse conjunto de dados, a tendência de alta dessa linha pode levar a decisões gerenciais equivocadas."
   ]
  },
  {
   "cell_type": "markdown",
   "metadata": {},
   "source": [
    "Referências:\n",
    "* Notas da aula 9 da disciplina de Métodos Quantitativos II do Programa de Mestrado Profissional Interdisciplinar da UNIFESP, Campus de São José dos Campos-SP, Prof. Dra. Camila B. Martins e Profa. Dra. Flávia Cristina M. Queiroz Mariano, ano de 2018.\n",
    "* https://en.wikipedia.org/wiki/Theil%E2%80%93Sen_estimator"
   ]
  },
  {
   "cell_type": "code",
   "execution_count": null,
   "metadata": {},
   "outputs": [],
   "source": []
  }
 ],
 "metadata": {
  "kernelspec": {
   "display_name": "Python 3",
   "language": "python",
   "name": "python3"
  },
  "language_info": {
   "codemirror_mode": {
    "name": "ipython",
    "version": 3
   },
   "file_extension": ".py",
   "mimetype": "text/x-python",
   "name": "python",
   "nbconvert_exporter": "python",
   "pygments_lexer": "ipython3",
   "version": "3.6.9"
  }
 },
 "nbformat": 4,
 "nbformat_minor": 4
}
